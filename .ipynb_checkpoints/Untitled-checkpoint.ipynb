{
 "cells": [
  {
   "cell_type": "code",
   "execution_count": 1,
   "id": "0a9468eb",
   "metadata": {},
   "outputs": [],
   "source": [
    "from flask import Flask, request, jsonify\n",
    "import joblib\n",
    "from sklearn.feature_extraction.text import CountVectorizer\n",
    "\n",
    "app = Flask(__name__)\n",
    "\n",
    "# Load the trained SVM classifier and vectorizer\n",
    "svm_classifier = joblib.load('model.pkl')\n",
    "v = CountVectorizer()\n",
    "\n",
    "# Define the list of emotion labels\n",
    "emotions = ['neutral', 'joy', 'sadness', 'fear', 'surprise', 'anger', 'shame', 'disgust']\n",
    "\n",
    "def predict_emotion(text):\n",
    "    # Process the input text\n",
    "    texts = [text]\n",
    "    text_count = v.transform(texts)\n",
    "    \n",
    "    # Make predictions using the SVM classifier\n",
    "    result = svm_classifier.predict(text_count)\n",
    "    \n",
    "    # Map the result to the corresponding emotion label\n",
    "    predicted_emotion = emotions[result[0] - 1]\n",
    "    \n",
    "    return predicted_emotion\n",
    "\n",
    "@app.route('/prediction', methods=['POST'])\n",
    "def predict():\n",
    "    try:\n",
    "        # Get input data from the request\n",
    "        data = request.json\n",
    "        text = data['text']\n",
    "        \n",
    "        # Call the predict_emotion function\n",
    "        predicted_emotion = predict_emotion(text)\n",
    "\n",
    "        # Return the predicted emotion as a JSON response\n",
    "        response = {'predicted_emotion': predicted_emotion}\n",
    "        return jsonify(response)\n",
    "    except Exception as e:\n",
    "        return jsonify({'error': str(e)})\n",
    "\n",
    "if __name__ == '__main__':\n",
    "    app.run(debug=True, port=8080) "
   ]
  },
  {
   "cell_type": "code",
   "execution_count": null,
   "id": "5b1bbfe6",
   "metadata": {},
   "outputs": [],
   "source": []
  },
  {
   "cell_type": "code",
   "execution_count": null,
   "id": "07cada9e",
   "metadata": {},
   "outputs": [],
   "source": []
  }
 ],
 "metadata": {
  "kernelspec": {
   "display_name": "Python 3 (ipykernel)",
   "language": "python",
   "name": "python3"
  },
  "language_info": {
   "codemirror_mode": {
    "name": "ipython",
    "version": 3
   },
   "file_extension": ".py",
   "mimetype": "text/x-python",
   "name": "python",
   "nbconvert_exporter": "python",
   "pygments_lexer": "ipython3",
   "version": "3.11.5"
  }
 },
 "nbformat": 4,
 "nbformat_minor": 5
}
